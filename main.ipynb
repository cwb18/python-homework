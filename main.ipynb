{
 "cells": [
  {
   "cell_type": "code",
   "execution_count": null,
   "id": "a5007fbe-b7dd-4f84-837c-1c8f1f13c548",
   "metadata": {},
   "outputs": [],
   "source": [
    "# python-homework\n",
    "\n",
    "#import the necessary libraries for csv file\n",
    "from pathlib import Path\n",
    "import csv\n",
    "\n",
    "#set the output of the text file\n",
    "csv = Path(\"budget_data.csv\")\n",
    "\n",
    "#Set Variables\n",
    "totalMonth = 0\n",
    "totalRevenue = 0\n",
    "previousRevenue = 0\n",
    "revenue_change = 0\n",
    "revenue_change_list = []\n",
    "month_of_change = []\n",
    "greatestIncrease = [\"\", 0]\n",
    "greatestDecrease = [\"\", 99999999999]\n",
    "\n",
    "#Open csv file\n",
    "with open(cvspath) as revenueData:\n",
    "   reader = csv.DictReader(revenueData)\n",
    "\n",
    " #Loop through to find total months\n",
    "   for row in reader:\n",
    "\n",
    "       #Totaling\n",
    "           totalMonth = totalMonth + 1\n",
    "           totalRevenue = totalRevenue + int(row[\"Revenue\"])\n",
    "\n",
    "#changes of revenue calculations\n",
    "           revenue_change = int(row[\"Revenue\"]) - previousRevenue\n",
    "           previousRevenue = int(row[\"Revenue\"])\n",
    "           month_of_change = month_of_change + [row[\"Date\"]]\n",
    "\n",
    "           #Greatest Increase value\n",
    "           if (revenue_change > greatestIncrease[1]):\n",
    "               greatestIncrease[1] = revenue_change\n",
    "               greatestIncrease[0] = row[\"Date\"]\n",
    "\n",
    "           if (revenue_change < greatestDecrease[1]):\n",
    "               greatestDecrease[0] = row[\"Date\"]\n",
    "               greatestDecrease[1] = revenue_change\n",
    "        \n",
    "#Calculate the average revenue outside of the loop\n",
    "revenue_avg = sum(revenue_change_list) / len(revenue_change_list)\n",
    "\n",
    "#Print the outcomes\n",
    "output = (\n",
    "    f\"Total Months: {totalMonth}\\n\"\n",
    "    f\"Total Revenue: {totalRevenue}\\n\"\n",
    "    f\"Average Revenue Change: ${revenue_avg}\\n\"\n",
    "    f\"Greatest increase in Revenue: {greatestIncrease[0]} ${greatestIncrease[1]}\\n\"\n",
    "    f\"Greatest decrease in Revenue: {greatestDecrease[0]} ${greatestDecrease[1]}\\n\""
   ]
  }
 ],
 "metadata": {
  "kernelspec": {
   "display_name": "Python 3",
   "language": "python",
   "name": "python3"
  },
  "language_info": {
   "codemirror_mode": {
    "name": "ipython",
    "version": 3
   },
   "file_extension": ".py",
   "mimetype": "text/x-python",
   "name": "python",
   "nbconvert_exporter": "python",
   "pygments_lexer": "ipython3",
   "version": "3.8.8"
  }
 },
 "nbformat": 4,
 "nbformat_minor": 5
}
