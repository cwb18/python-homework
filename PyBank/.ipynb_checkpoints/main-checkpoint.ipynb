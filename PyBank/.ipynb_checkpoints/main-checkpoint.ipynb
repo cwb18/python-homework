{
 "cells": [
  {
   "cell_type": "code",
   "execution_count": null,
   "source": [
    "# python-homework\r\n",
    "\r\n",
    "#import the necessary libraries for csv file\r\n",
    "from pathlib import Path\r\n",
    "import csv\r\n",
    "\r\n",
    "#set the output of the text file\r\n",
    "csv = Path(\"budget_data.csv\")\r\n",
    "\r\n",
    "#Set Variables\r\n",
    "totalMonth = 0\r\n",
    "totalRevenue = 0\r\n",
    "previousRevenue = 0\r\n",
    "revenue_change = 0\r\n",
    "revenue_change_list = []\r\n",
    "month_of_change = []\r\n",
    "greatestIncrease = [\"\", 0]\r\n",
    "greatestDecrease = [\"\", 99999999999]\r\n",
    "\r\n",
    "#Open csv file\r\n",
    "with open(cvspath) as revenueData:\r\n",
    "   reader = csv.DictReader(revenueData)\r\n",
    "\r\n",
    " #Loop through to find total months\r\n",
    "   for row in reader:\r\n",
    "\r\n",
    "       #Totaling\r\n",
    "           totalMonth = totalMonth + 1\r\n",
    "           totalRevenue = totalRevenue + int(row[\"Revenue\"])\r\n",
    "\r\n",
    "#changes of revenue calculations\r\n",
    "           revenue_change = int(row[\"Revenue\"]) - previousRevenue\r\n",
    "           previousRevenue = int(row[\"Revenue\"])\r\n",
    "           month_of_change = month_of_change + [row[\"Date\"]]\r\n",
    "\r\n",
    "           #Greatest Increase value\r\n",
    "           if (revenue_change > greatestIncrease[1]):\r\n",
    "               greatestIncrease[1] = revenue_change\r\n",
    "               greatestIncrease[0] = row[\"Date\"]\r\n",
    "\r\n",
    "           if (revenue_change < greatestDecrease[1]):\r\n",
    "               greatestDecrease[0] = row[\"Date\"]\r\n",
    "               greatestDecrease[1] = revenue_change\r\n",
    "        \r\n",
    "#Calculate the average revenue outside of the loop\r\n",
    "revenue_avg = sum(revenue_change_list) / len(revenue_change_list)\r\n",
    "\r\n",
    "#Print the outcomes\r\n",
    "output = (\r\n",
    "    f\"Total Months: {totalMonth}\\n\"\r\n",
    "    f\"Total Revenue: {totalRevenue}\\n\"\r\n",
    "    f\"Average Revenue Change: ${revenue_avg}\\n\"\r\n",
    "    f\"Greatest increase in Revenue: {greatestIncrease[0]} ${greatestIncrease[1]}\\n\"\r\n",
    "    f\"Greatest decrease in Revenue: {greatestDecrease[0]} ${greatestDecrease[1]}\\n\""
   ],
   "outputs": [],
   "metadata": {}
  }
 ],
 "metadata": {
  "kernelspec": {
   "display_name": "Python 3",
   "language": "python",
   "name": "python3"
  },
  "language_info": {
   "codemirror_mode": {
    "name": "ipython",
    "version": 3
   },
   "file_extension": ".py",
   "mimetype": "text/x-python",
   "name": "python",
   "nbconvert_exporter": "python",
   "pygments_lexer": "ipython3",
   "version": "3.8.8"
  }
 },
 "nbformat": 4,
 "nbformat_minor": 5
}