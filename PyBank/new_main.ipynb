{
 "cells": [
  {
   "cell_type": "code",
   "execution_count": 8,
   "id": "a5007fbe-b7dd-4f84-837c-1c8f1f13c548",
   "metadata": {},
   "outputs": [],
   "source": [
    "# python-homework\n",
    "\n",
    "#import the necessary libraries for csv file\n",
    "from pathlib import Path\n",
    "import csv\n",
    "\n",
    "#set the output of the text file\n",
    "csvpath = Path(\"../budget_data.csv\")\n",
    "output = Path(\"../Budget_analysis.txt\")\n",
    "#Set Variables\n",
    "totalMonth = 0\n",
    "totalRevenue = 0\n",
    "previousRevenue = 0\n",
    "revenue_change = 0\n",
    "revenue_change_list = []\n",
    "month_of_change = []\n",
    "greatestIncrease = [\"\", 0]\n",
    "greatestDecrease = [\"\", 99999999999]\n"
   ]
  },
  {
   "cell_type": "code",
   "execution_count": 21,
   "metadata": {},
   "outputs": [],
   "source": [
    "#Open csv file\n",
    "with open(csvpath) as revenueData:\n",
    "    reader = csv.reader(revenueData)\n",
    "\n",
    "    # Read the header row\n",
    "    header = next(reader)\n",
    "\n",
    "    # Extract first row to avoid appending to net_change_list\n",
    "    first_row = next(reader)\n",
    "    totalMonth = totalMonth + 1\n",
    "    totalRevenue = totalRevenue + int(first_row[1])\n",
    "    previousRevenue = int(first_row[1])\n",
    "      \n",
    " #Loop through to find total months\n",
    "    for row in reader:\n",
    "\n",
    "       #Totaling\n",
    "           totalMonth = totalMonth + 1\n",
    "           totalRevenue = totalRevenue + int(row[1])\n",
    "\n",
    "#changes of revenue calculations\n",
    "           revenue_change = int(row[1]) - previousRevenue\n",
    "           previousRevenue = int(row[1])\n",
    "           month_of_change = month_of_change + [row[0]]\n",
    "           revenue_change_list = revenue_change_list + [revenue_change]\n",
    "\n",
    "           #Greatest Increase value\n",
    "           if (revenue_change > greatestIncrease[1]):\n",
    "               greatestIncrease[1] = revenue_change\n",
    "               greatestIncrease[0] = row[0]\n",
    "\n",
    "           if (revenue_change < greatestDecrease[1]):\n",
    "               greatestDecrease[0] = row[0]\n",
    "               greatestDecrease[1] = revenue_change\n",
    "        \n"
   ]
  },
  {
   "cell_type": "code",
   "execution_count": 23,
   "metadata": {},
   "outputs": [],
   "source": [
    "#Calculate the average revenue outside of the loop\n",
    "revenue_avg = sum(revenue_change_list) / len(revenue_change_list)"
   ]
  },
  {
   "cell_type": "code",
   "execution_count": 24,
   "metadata": {},
   "outputs": [],
   "source": [
    "with open(output, \"w\") as txt:\n",
    "    txt.write(f\"Total Months: {totalMonth}\\n\")\n",
    "    txt.write(f\"Total Revenue: {totalRevenue}\\n\")\n",
    "    txt.write(f\"Average Revenue Change: ${revenue_avg}\\n\")\n",
    "    txt.write(f\"Average Revenue Change: ${revenue_avg}\\n\")\n",
    "    txt.write(f\"Greatest increase in Revenue: {greatestIncrease[0]} ${greatestIncrease[1]}\\n\")\n",
    "    txt.write(f\"Greatest decrease in Revenue: {greatestDecrease[0]} ${greatestDecrease[1]}\\n\")\n",
    "   "
   ]
  },
  {
   "cell_type": "code",
   "execution_count": null,
   "metadata": {},
   "outputs": [],
   "source": []
  }
 ],
 "metadata": {
  "interpreter": {
   "hash": "57baa5815c940fdaff4d14510622de9616cae602444507ba5d0b6727c008cbd6"
  },
  "kernelspec": {
   "display_name": "Python 3.7.8 64-bit",
   "name": "python3"
  },
  "language_info": {
   "codemirror_mode": {
    "name": "ipython",
    "version": 3
   },
   "file_extension": ".py",
   "mimetype": "text/x-python",
   "name": "python",
   "nbconvert_exporter": "python",
   "pygments_lexer": "ipython3",
   "version": "3.7.8"
  }
 },
 "nbformat": 4,
 "nbformat_minor": 5
}
